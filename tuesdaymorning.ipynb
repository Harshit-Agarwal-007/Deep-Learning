{
  "metadata": {
    "kernelspec": {
      "display_name": "Python 3",
      "name": "python3"
    },
    "language_info": {
      "name": "python",
      "version": "3.10.14",
      "mimetype": "text/x-python",
      "codemirror_mode": {
        "name": "ipython",
        "version": 3
      },
      "pygments_lexer": "ipython3",
      "nbconvert_exporter": "python",
      "file_extension": ".py"
    },
    "kaggle": {
      "accelerator": "gpu",
      "dataSources": [
        {
          "sourceId": 5380830,
          "sourceType": "datasetVersion",
          "datasetId": 3120670
        }
      ],
      "dockerImageVersionId": 30761,
      "isInternetEnabled": false,
      "language": "python",
      "sourceType": "notebook",
      "isGpuEnabled": true
    },
    "colab": {
      "name": "tuesdaymorning",
      "provenance": [],
      "gpuType": "T4",
      "include_colab_link": true
    },
    "accelerator": "GPU"
  },
  "nbformat_minor": 0,
  "nbformat": 4,
  "cells": [
    {
      "cell_type": "markdown",
      "metadata": {
        "id": "view-in-github",
        "colab_type": "text"
      },
      "source": [
        "<a href=\"https://colab.research.google.com/github/Harshit-Agarwal-007/Deep-Learning/blob/main/tuesdaymorning.ipynb\" target=\"_parent\"><img src=\"https://colab.research.google.com/assets/colab-badge.svg\" alt=\"Open In Colab\"/></a>"
      ]
    },
    {
      "source": [
        "\n",
        "# IMPORTANT: RUN THIS CELL IN ORDER TO IMPORT YOUR KAGGLE DATA SOURCES\n",
        "# TO THE CORRECT LOCATION (/kaggle/input) IN YOUR NOTEBOOK,\n",
        "# THEN FEEL FREE TO DELETE THIS CELL.\n",
        "# NOTE: THIS NOTEBOOK ENVIRONMENT DIFFERS FROM KAGGLE'S PYTHON\n",
        "# ENVIRONMENT SO THERE MAY BE MISSING LIBRARIES USED BY YOUR\n",
        "# NOTEBOOK.\n",
        "\n",
        "import os\n",
        "import sys\n",
        "from tempfile import NamedTemporaryFile\n",
        "from urllib.request import urlopen\n",
        "from urllib.parse import unquote, urlparse\n",
        "from urllib.error import HTTPError\n",
        "from zipfile import ZipFile\n",
        "import tarfile\n",
        "import shutil\n",
        "\n",
        "CHUNK_SIZE = 40960\n",
        "DATA_SOURCE_MAPPING = 'celeb-df-v2:https%3A%2F%2Fstorage.googleapis.com%2Fkaggle-data-sets%2F3120670%2F5380830%2Fbundle%2Farchive.zip%3FX-Goog-Algorithm%3DGOOG4-RSA-SHA256%26X-Goog-Credential%3Dgcp-kaggle-com%2540kaggle-161607.iam.gserviceaccount.com%252F20240921%252Fauto%252Fstorage%252Fgoog4_request%26X-Goog-Date%3D20240921T183800Z%26X-Goog-Expires%3D259200%26X-Goog-SignedHeaders%3Dhost%26X-Goog-Signature%3D6bfa9cd7f884f4dbddc4a2faf3f41ccfed35cffa85bfcf61e8ba2ce26a5b9beedf681d4083b9e193f118c9f8a3c2e21de2b944926ba43c16d2d89693866ddd1e52ceab03f6c7a971a2157d7c3877d8d30889bf873e8f46863cf51a81b5e36cd8eedb9c56010b9230f67e20b26569c891cbf12e9fb137e87115a2a506dbfed07fb055a3b8156551f5ace702822c9ee8715264acb719d087c9325b7b5af5d58ac4cdca52524c7a4449bc2aee7a1e02a89c9fe6aad253ec8fdd510f59c005dd52b555487dacbf53a0c5e2a1cce9eddf4a626f135a7f6fbb4a37a98ac52d1519556afea952580360c8566b289c0449c34fdb00620e6ba12d17fa9717aebbc0968a7e'\n",
        "\n",
        "KAGGLE_INPUT_PATH='/kaggle/input'\n",
        "KAGGLE_WORKING_PATH='/kaggle/working'\n",
        "KAGGLE_SYMLINK='kaggle'\n",
        "\n",
        "!umount /kaggle/input/ 2> /dev/null\n",
        "shutil.rmtree('/kaggle/input', ignore_errors=True)\n",
        "os.makedirs(KAGGLE_INPUT_PATH, 0o777, exist_ok=True)\n",
        "os.makedirs(KAGGLE_WORKING_PATH, 0o777, exist_ok=True)\n",
        "\n",
        "try:\n",
        "  os.symlink(KAGGLE_INPUT_PATH, os.path.join(\"..\", 'input'), target_is_directory=True)\n",
        "except FileExistsError:\n",
        "  pass\n",
        "try:\n",
        "  os.symlink(KAGGLE_WORKING_PATH, os.path.join(\"..\", 'working'), target_is_directory=True)\n",
        "except FileExistsError:\n",
        "  pass\n",
        "\n",
        "for data_source_mapping in DATA_SOURCE_MAPPING.split(','):\n",
        "    directory, download_url_encoded = data_source_mapping.split(':')\n",
        "    download_url = unquote(download_url_encoded)\n",
        "    filename = urlparse(download_url).path\n",
        "    destination_path = os.path.join(KAGGLE_INPUT_PATH, directory)\n",
        "    try:\n",
        "        with urlopen(download_url) as fileres, NamedTemporaryFile() as tfile:\n",
        "            total_length = fileres.headers['content-length']\n",
        "            print(f'Downloading {directory}, {total_length} bytes compressed')\n",
        "            dl = 0\n",
        "            data = fileres.read(CHUNK_SIZE)\n",
        "            while len(data) > 0:\n",
        "                dl += len(data)\n",
        "                tfile.write(data)\n",
        "                done = int(50 * dl / int(total_length))\n",
        "                sys.stdout.write(f\"\\r[{'=' * done}{' ' * (50-done)}] {dl} bytes downloaded\")\n",
        "                sys.stdout.flush()\n",
        "                data = fileres.read(CHUNK_SIZE)\n",
        "            if filename.endswith('.zip'):\n",
        "              with ZipFile(tfile) as zfile:\n",
        "                zfile.extractall(destination_path)\n",
        "            else:\n",
        "              with tarfile.open(tfile.name) as tarfile:\n",
        "                tarfile.extractall(destination_path)\n",
        "            print(f'\\nDownloaded and uncompressed: {directory}')\n",
        "    except HTTPError as e:\n",
        "        print(f'Failed to load (likely expired) {download_url} to path {destination_path}')\n",
        "        continue\n",
        "    except OSError as e:\n",
        "        print(f'Failed to load {download_url} to path {destination_path}')\n",
        "        continue\n",
        "\n",
        "print('Data source import complete.')\n"
      ],
      "metadata": {
        "id": "dMx-EE3c4HOs",
        "outputId": "18e14d50-85d5-46db-fd12-e7979684ecf7",
        "colab": {
          "base_uri": "https://localhost:8080/"
        }
      },
      "cell_type": "code",
      "outputs": [
        {
          "output_type": "stream",
          "name": "stdout",
          "text": [
            "Downloading celeb-df-v2, 9970063457 bytes compressed\n",
            "[=============================                     ] 5883125760 bytes downloaded"
          ]
        }
      ],
      "execution_count": null
    },
    {
      "cell_type": "markdown",
      "source": [],
      "metadata": {
        "id": "5dEwXRiz532i"
      }
    },
    {
      "cell_type": "code",
      "source": [
        "from tensorflow.keras.preprocessing.sequence import pad_sequences\n",
        "import os\n",
        "import cv2\n",
        "import numpy as np\n",
        "from tqdm import tqdm\n",
        "from sklearn.model_selection import train_test_split\n",
        "\n",
        "# Paths to real and fake videos\n",
        "real_videos_path = '/kaggle/input/celeb-df-v2/Celeb-real'\n",
        "fake_videos_path = '/kaggle/input/celeb-df-v2/Celeb-synthesis'\n",
        "\n",
        "def extract_frames(video_path, num_frames=70, resize=(64, 64)):\n",
        "    frames = []\n",
        "    cap = cv2.VideoCapture(video_path)\n",
        "    total_frames = int(cap.get(cv2.CAP_PROP_FRAME_COUNT))\n",
        "    step = max(1, total_frames // num_frames)  # Ensure step is at least 1\n",
        "    for i in range(0, total_frames, step):\n",
        "        cap.set(cv2.CAP_PROP_POS_FRAMES, i)\n",
        "        ret, frame = cap.read()\n",
        "        if ret:\n",
        "            frame = cv2.resize(frame, resize)\n",
        "            frames.append(frame)\n",
        "    cap.release()\n",
        "    return np.array(frames)\n",
        "\n",
        "# Extract frames and labels\n",
        "X, Y = [], []\n",
        "\n",
        "for video_file in tqdm(os.listdir(real_videos_path)):\n",
        "    video_path = os.path.join(real_videos_path, video_file)\n",
        "    frames = extract_frames(video_path)\n",
        "    X.append(frames)\n",
        "    Y.append(1)  # Label for real videos\n",
        "\n",
        "i = 0\n",
        "for video_file in tqdm(os.listdir(fake_videos_path)):\n",
        "    if i == 590:\n",
        "        break\n",
        "    i += 1\n",
        "    video_path = os.path.join(fake_videos_path, video_file)\n",
        "    frames = extract_frames(video_path)\n",
        "    X.append(frames)\n",
        "    Y.append(0)  # Label for fake videos\n",
        "\n",
        "# Padding frames to have the same length\n",
        "max_frames = max([len(x) for x in X])\n",
        "X = pad_sequences(X, maxlen=max_frames, padding='post', truncating='post', dtype='float32')\n",
        "\n",
        "Y = np.array(Y)\n",
        "\n",
        "# Split the data\n",
        "X_train, X_test, y_train, y_test = train_test_split(X, Y, test_size=0.2, random_state=42)\n"
      ],
      "metadata": {
        "_uuid": "8f2839f25d086af736a60e9eeb907d3b93b6e0e5",
        "_cell_guid": "b1076dfc-b9ad-4769-8c92-a6c4dae69d19",
        "execution": {
          "iopub.status.busy": "2024-09-21T17:24:43.687511Z",
          "iopub.execute_input": "2024-09-21T17:24:43.687908Z",
          "iopub.status.idle": "2024-09-21T17:40:12.309755Z",
          "shell.execute_reply.started": "2024-09-21T17:24:43.687867Z",
          "shell.execute_reply": "2024-09-21T17:40:12.308544Z"
        },
        "trusted": true,
        "id": "c2pmtVyD4HOu"
      },
      "execution_count": null,
      "outputs": []
    },
    {
      "cell_type": "code",
      "source": [
        "from tensorflow.keras.layers import LeakyReLU\n",
        "from tensorflow.keras.models import Sequential\n",
        "from tensorflow.keras.layers import Conv3D, MaxPooling3D, Dropout, Flatten, Dense, LeakyReLU\n",
        "\n",
        "\n",
        "# Define the 3D CNN model\n",
        "model = Sequential([\n",
        "    Conv3D(32, (3, 3, 3), input_shape=(X_train.shape[1], 64, 64, 3)),\n",
        "    LeakyReLU(alpha=0.09),\n",
        "    MaxPooling3D(pool_size=(2, 2, 2)),\n",
        "    Dropout(0.2),\n",
        "    Conv3D(64, (3, 3, 3)),\n",
        "    LeakyReLU(alpha=0.09),\n",
        "    MaxPooling3D(pool_size=(2, 2, 2)),\n",
        "    Dropout(0.2),\n",
        "    Flatten(),\n",
        "    Dense(128),\n",
        "    LeakyReLU(alpha=0.09),\n",
        "    Dropout(0.5),\n",
        "    Dense(1, activation='sigmoid')\n",
        "])\n",
        "\n",
        "model.compile(optimizer='adam', loss='binary_crossentropy', metrics=['accuracy'])\n",
        "model.summary()\n"
      ],
      "metadata": {
        "execution": {
          "iopub.status.busy": "2024-09-21T17:40:12.312158Z",
          "iopub.execute_input": "2024-09-21T17:40:12.312815Z",
          "iopub.status.idle": "2024-09-21T17:40:12.60506Z",
          "shell.execute_reply.started": "2024-09-21T17:40:12.312778Z",
          "shell.execute_reply": "2024-09-21T17:40:12.604033Z"
        },
        "trusted": true,
        "id": "gpPZvXWl4HOv"
      },
      "execution_count": null,
      "outputs": []
    },
    {
      "cell_type": "code",
      "source": [
        "from tensorflow.keras.callbacks import EarlyStopping\n",
        "\n",
        "# Define early stopping\n",
        "early_stopping = EarlyStopping(monitor='val_accuracy', patience=5, restore_best_weights=True)\n",
        "\n",
        "history = model.fit(X_train, y_train,\n",
        "                    epochs=65,\n",
        "                    validation_split=0.1,\n",
        "                    batch_size=16,\n",
        "                   callbacks=[early_stopping])\n",
        "\n",
        "loss, accuracy = model.evaluate(X_test, y_test)\n",
        "print(f\"Test Accuracy: {accuracy:.2f}\")"
      ],
      "metadata": {
        "trusted": true,
        "id": "XXKgI61P4HOv"
      },
      "execution_count": null,
      "outputs": []
    },
    {
      "cell_type": "code",
      "source": [
        "# Load your trained model\n",
        "# model = ...  # Load your trained model here\n",
        "\n",
        "# Path to the video you want to test\n",
        "# test_video_path = '/kaggle/input/celeb-df-v2/Celeb-synthesis/id0_id26_0008.mp4'\n",
        "videos = '/kaggle/input/celeb-df-v2/YouTube-real'\n",
        "array = []\n",
        "i=0\n",
        "x=0\n",
        "high = float(0)\n",
        "low = float(1)\n",
        "for video in tqdm(os.listdir(videos)) :\n",
        "#     i+=1\n",
        "#     if i==0 :\n",
        "#         break\n",
        "    test_video_path = os.path.join(videos, video)\n",
        "\n",
        "\n",
        "# Extract frames from the test video\n",
        "    test_frames = extract_frames(test_video_path)\n",
        "\n",
        "# Ensure the frames are padded to the same length as in training\n",
        "    test_frames = pad_sequences([test_frames], maxlen=max_frames, padding='post', truncating='post', dtype='float32')\n",
        "\n",
        "# Predict using the trained model\n",
        "    prediction = model.predict(test_frames)\n",
        "    num = prediction[0][0]\n",
        "    if high<num:\n",
        "        high = num\n",
        "    if low>num:\n",
        "        low = num\n",
        "#     print(num)\n",
        "    array.append(num)\n",
        "#     print(\"Prediction = \" + str(prediction))\n",
        "# Interpretation\n",
        "    if prediction < 0.15:\n",
        "        print(\"The video is predicted to be REAL.\")\n",
        "\n",
        "    else:\n",
        "        print(\"The video is predicted to be FAKE.\")\n",
        "        print(x)\n",
        "        x+=1\n",
        "\n",
        "print(array)\n"
      ],
      "metadata": {
        "trusted": true,
        "id": "NhrrOiQ44HOw"
      },
      "execution_count": null,
      "outputs": []
    },
    {
      "cell_type": "code",
      "source": [
        "print(high)\n",
        "print(low)"
      ],
      "metadata": {
        "trusted": true,
        "id": "06y86oXL4HOw"
      },
      "execution_count": null,
      "outputs": []
    },
    {
      "cell_type": "code",
      "source": [
        "# Load your trained model\n",
        "# model = ...  # Load your trained model here\n",
        "\n",
        "# Path to the video you want to test\n",
        "# test_video_path = '/kaggle/input/celeb-df-v2/Celeb-synthesis/id0_id26_0008.mp4'\n",
        "videos = '/kaggle/input/celeb-df-v2/Celeb-synthesis'\n",
        "array = []\n",
        "i=0\n",
        "x=0\n",
        "high = float(0)\n",
        "low = float(1)\n",
        "for video in tqdm(os.listdir(videos)) :\n",
        "    i+=1\n",
        "    if i==300 :\n",
        "        break\n",
        "    test_video_path = os.path.join(videos, video)\n",
        "\n",
        "\n",
        "# Extract frames from the test video\n",
        "    test_frames = extract_frames(test_video_path)\n",
        "\n",
        "# Ensure the frames are padded to the same length as in training\n",
        "    test_frames = pad_sequences([test_frames], maxlen=max_frames, padding='post', truncating='post', dtype='float32')\n",
        "\n",
        "# Predict using the trained model\n",
        "    prediction = model.predict(test_frames)\n",
        "    num = prediction[0][0]\n",
        "    if high<num:\n",
        "        high = num\n",
        "    if low>num:\n",
        "        low = num\n",
        "#     print(num)\n",
        "    array.append(num)\n",
        "#     print(\"Prediction = \" + str(prediction))\n",
        "# Interpretation\n",
        "    if prediction < 0.15:\n",
        "        print(\"The video is predicted to be REAL.\")\n",
        "\n",
        "    else:\n",
        "        print(\"The video is predicted to be FAKE.\")\n",
        "        print(x)\n",
        "        x+=1\n",
        "\n",
        "print(array)\n"
      ],
      "metadata": {
        "trusted": true,
        "id": "CedhGi0z4HOx"
      },
      "execution_count": null,
      "outputs": []
    },
    {
      "cell_type": "code",
      "source": [
        "print(array)\n",
        "print(low)"
      ],
      "metadata": {
        "trusted": true,
        "id": "T4y9aCcB4HOy"
      },
      "execution_count": null,
      "outputs": []
    },
    {
      "cell_type": "code",
      "source": [
        "model.save('Latest_SIH.h5')"
      ],
      "metadata": {
        "trusted": true,
        "id": "X-7DIhda4HOy"
      },
      "execution_count": null,
      "outputs": []
    },
    {
      "cell_type": "code",
      "source": [],
      "metadata": {
        "id": "lf5UEXoZ4HOz"
      },
      "execution_count": null,
      "outputs": []
    }
  ]
}