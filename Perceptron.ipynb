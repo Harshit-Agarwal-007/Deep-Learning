{
  "nbformat": 4,
  "nbformat_minor": 0,
  "metadata": {
    "colab": {
      "provenance": [],
      "authorship_tag": "ABX9TyN+DMPNc9GYzGi9GYqEt8Yk",
      "include_colab_link": true
    },
    "kernelspec": {
      "name": "python3",
      "display_name": "Python 3"
    },
    "language_info": {
      "name": "python"
    }
  },
  "cells": [
    {
      "cell_type": "markdown",
      "metadata": {
        "id": "view-in-github",
        "colab_type": "text"
      },
      "source": [
        "<a href=\"https://colab.research.google.com/github/Harshit-Agarwal-007/Deep-Learning/blob/main/Perceptron.ipynb\" target=\"_parent\"><img src=\"https://colab.research.google.com/assets/colab-badge.svg\" alt=\"Open In Colab\"/></a>"
      ]
    },
    {
      "cell_type": "code",
      "execution_count": null,
      "metadata": {
        "colab": {
          "base_uri": "https://localhost:8080/"
        },
        "id": "gupnL1ZPGokz",
        "outputId": "3a1b73e8-f508-4602-88c9-d01f2a8dc593"
      },
      "outputs": [
        {
          "output_type": "stream",
          "name": "stdout",
          "text": [
            "[2.55, 2.33, 0.125]\n"
          ]
        }
      ],
      "source": [
        "import numpy as np\n",
        "import pandas as pd\n",
        "inputs = [1,2,2.5]\n",
        "weights = [[0.2, 0.8, -0.5, 1],\n",
        "           [0.5, -0.91, 0.26, -0.5],\n",
        "           [-0.26, -0.27, 0.17, 0.87]]\n",
        "biases = [2, 3, 0.5]\n",
        "outputs=[]\n",
        "#for each neuron\n",
        "for nw, b in zip(weights, biases):\n",
        "  neuron_output = 0\n",
        "  for i, w in zip(inputs , nw):\n",
        "    neuron_output += i*w\n",
        "  neuron_output += b\n",
        "  outputs.append(neuron_output)\n",
        "\n",
        "print(outputs)"
      ]
    },
    {
      "cell_type": "code",
      "source": [
        "#single neuron with numpy\n",
        "inputs=[1,2,23]\n",
        "weights=[2,3,2.5]\n",
        "biases = 2.0\n",
        "outputs_numpy= np.dot(weights, inputs) + biases\n",
        "print(outputs_numpy)"
      ],
      "metadata": {
        "colab": {
          "base_uri": "https://localhost:8080/"
        },
        "id": "7eMMAC66OGYn",
        "outputId": "7eaa3cc6-4a40-41ec-eb70-264e6c50d242"
      },
      "execution_count": null,
      "outputs": [
        {
          "output_type": "stream",
          "name": "stdout",
          "text": [
            "67.5\n"
          ]
        }
      ]
    },
    {
      "cell_type": "code",
      "source": [],
      "metadata": {
        "id": "Xc0N0Qb3PEc0"
      },
      "execution_count": null,
      "outputs": []
    }
  ]
}