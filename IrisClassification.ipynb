{
  "nbformat": 4,
  "nbformat_minor": 0,
  "metadata": {
    "colab": {
      "provenance": [],
      "authorship_tag": "ABX9TyO41olV1MNNfX+t1Palr31g",
      "include_colab_link": true
    },
    "kernelspec": {
      "name": "python3",
      "display_name": "Python 3"
    },
    "language_info": {
      "name": "python"
    }
  },
  "cells": [
    {
      "cell_type": "markdown",
      "metadata": {
        "id": "view-in-github",
        "colab_type": "text"
      },
      "source": [
        "<a href=\"https://colab.research.google.com/github/Harshit-Agarwal-007/Deep-Learning/blob/main/IrisClassification.ipynb\" target=\"_parent\"><img src=\"https://colab.research.google.com/assets/colab-badge.svg\" alt=\"Open In Colab\"/></a>"
      ]
    },
    {
      "cell_type": "code",
      "execution_count": 109,
      "metadata": {
        "id": "80A2F5Jz4-Ww"
      },
      "outputs": [],
      "source": [
        "#importing libraries\n",
        "import numpy as np\n",
        "import pandas as pd\n",
        "from sklearn.datasets import load_iris\n",
        "from sklearn.model_selection import train_test_split\n",
        "import matplotlib.pyplot as plt\n",
        "\n",
        "#loading the dataset\n",
        "data = load_iris()\n",
        "\n",
        "X = data.data\n",
        "y = data.target\n",
        "\n",
        "#prepare dataset\n",
        "y= pd.get_dummies(y).values"
      ]
    },
    {
      "cell_type": "code",
      "source": [
        "#splitting data\n",
        "xtrain , xtest, ytrain , ytest = train_test_split(X, y )\n",
        "\n"
      ],
      "metadata": {
        "id": "Lu2UH4-f7UGV"
      },
      "execution_count": 110,
      "outputs": []
    },
    {
      "cell_type": "code",
      "source": [
        "#initializeing hyperparameters and weights\n",
        "lr = 0.001\n",
        "iterations = 5000\n",
        "\n",
        "\n",
        "#N = ytrain.shape[0]\n",
        "inputsize = 4\n",
        "hiddensize = 2\n",
        "outputsize = 3\n",
        "\n",
        "results = pd.DataFrame(columns=[\"mse\", \"accuracy\"])\n",
        "\n",
        "#weights\n",
        "\n",
        "w1 = np.random.normal(scale = 0.5, size = (inputsize , hiddensize))\n",
        "\n",
        "w2 = np.random.normal(scale = 0.5, size = (hiddensize, outputsize))\n",
        "\n"
      ],
      "metadata": {
        "id": "hbevGZ0h8EWx"
      },
      "execution_count": 111,
      "outputs": []
    },
    {
      "cell_type": "code",
      "source": [
        "#functions\n",
        "def sigmoid(x):\n",
        "  return 1/(1+np.exp(-x))\n",
        "\n",
        "def msefunc(ypred, ytrue):\n",
        "  return ((ypred - ytrue)**2).sum()/(2*ypred.size)\n",
        "\n",
        "def accuracy(ypred, ytrue):\n",
        "  acc = ypred.argmax(axis = 1) == ytrue.argmax(axis =1)\n",
        "  return acc.mean()\n",
        "\n"
      ],
      "metadata": {
        "id": "DLhNutoA9ETF"
      },
      "execution_count": 112,
      "outputs": []
    },
    {
      "cell_type": "code",
      "source": [
        "#forward and backword propagation\n",
        "accres, mseres = [],[]\n",
        "for itr in range(iterations):\n",
        "  #hidden layer\n",
        "  Z1 = np.dot(xtrain, w1)\n",
        "  A1 = sigmoid(Z1)\n",
        "  #output layer\n",
        "  Z2 = np.dot(A1, w2)\n",
        "  A2 = sigmoid(Z2);\n",
        "\n",
        "  #error\n",
        "  mse = msefunc(A2, ytrain)\n",
        "  acc = accuracy(A2, ytrain)\n",
        "  results = pd.concat([results, pd.DataFrame({\"mse\": [mse], \"accuracy\": [acc]})], ignore_index=True)\n",
        "  mseres.append(mse)\n",
        "  accres.append(acc)\n",
        "  #backword propagation\n",
        "  E1 = A2 - ytrain\n",
        "  dw1 = E1 * A2 * (1 - A2)\n",
        "\n",
        "  E2 = np.dot(dw1, w2.T)\n",
        "  dw2 = E2 * A1 * (1 - A1)\n",
        "\n",
        "  #updating weights\n",
        "  w2 = w2 - lr * np.dot(A1.T, dw1)\n",
        "  w1 = w1 - lr * np.dot(xtrain.T, dw2)"
      ],
      "metadata": {
        "id": "F0lFfvcrX5qT"
      },
      "execution_count": 119,
      "outputs": []
    },
    {
      "cell_type": "code",
      "source": [
        "results.mse.plot()"
      ],
      "metadata": {
        "colab": {
          "base_uri": "https://localhost:8080/",
          "height": 448
        },
        "id": "m_BSStTJYEyM",
        "outputId": "c34c01a0-0e09-42e3-dbf0-d97a3b255177"
      },
      "execution_count": 123,
      "outputs": [
        {
          "output_type": "execute_result",
          "data": {
            "text/plain": [
              "<Axes: >"
            ]
          },
          "metadata": {},
          "execution_count": 123
        },
        {
          "output_type": "display_data",
          "data": {
            "text/plain": [
              "<Figure size 640x480 with 1 Axes>"
            ],
            "image/png": "[encoded data removed]"
          },
          "metadata": {}
        }
      ]
    },
    {
      "cell_type": "code",
      "source": [
        "results.accuracy.plot()\n"
      ],
      "metadata": {
        "colab": {
          "base_uri": "https://localhost:8080/",
          "height": 448
        },
        "id": "NaVyaSHkYOdv",
        "outputId": "f73fa250-4bea-4bcb-b4ad-80f63899b9db"
      },
      "execution_count": 115,
      "outputs": [
        {
          "output_type": "execute_result",
          "data": {
            "text/plain": [
              "<Axes: >"
            ]
          },
          "metadata": {},
          "execution_count": 115
        },
        {
          "output_type": "display_data",
          "data": {
            "text/plain": [
              "<Figure size 640x480 with 1 Axes>"
            ],
            "image/png": "[encoded data removed]"
          },
          "metadata": {}
        }
      ]
    },
    {
      "cell_type": "code",
      "source": [
        "#testing\n",
        "\n",
        "Z1 = np.dot(xtest, w1)\n",
        "A1 = sigmoid(Z1)\n",
        "\n",
        "Z2 = np.dot(A1, w2)\n",
        "A2 = sigmoid(Z2)\n",
        "\n",
        "acc = accuracy(A2, ytest)\n",
        "print(acc)\n",
        "\n"
      ],
      "metadata": {
        "colab": {
          "base_uri": "https://localhost:8080/"
        },
        "id": "w2mm2TScYVXp",
        "outputId": "c62aea0c-20ed-427f-f4ea-e2c348724f00"
      },
      "execution_count": 116,
      "outputs": [
        {
          "output_type": "stream",
          "name": "stdout",
          "text": [
            "0.9473684210526315\n"
          ]
        }
      ]
    },
    {
      "cell_type": "code",
      "source": [
        "# Prediction function\n",
        "def predict_iris(sepal_length, sepal_width, petal_length, petal_width):\n",
        "    features = np.array([sepal_length, sepal_width, petal_length, petal_width])\n",
        "    Z1 = np.dot(features, w1)\n",
        "    A1 = sigmoid(Z1)\n",
        "    Z2 = np.dot(A1, w2)\n",
        "    A2 = sigmoid(Z2)\n",
        "    predicted_class = A2.argmax()\n",
        "\n",
        "    classes = ['Iris Setosa', 'Iris Versicolour', 'Iris Virginica']\n",
        "    return classes[predicted_class]\n",
        "\n",
        "# Example prediction\n",
        "eg_sepal_length = 2.1\n",
        "eg_sepal_width = 3.5\n",
        "eg_petal_length = 1.4\n",
        "eg_petal_width = 10\n",
        "\n",
        "predicted_class = predict_iris(eg_sepal_length, eg_sepal_width, eg_petal_length, eg_petal_width)\n",
        "print(f\"Predicted Class: {predicted_class}\")"
      ],
      "metadata": {
        "colab": {
          "base_uri": "https://localhost:8080/"
        },
        "id": "fO6tctR0lNwV",
        "outputId": "251ccb59-ea53-4942-bde1-82390fa511da"
      },
      "execution_count": 126,
      "outputs": [
        {
          "output_type": "stream",
          "name": "stdout",
          "text": [
            "Predicted Class: Iris Virginica\n"
          ]
        }
      ]
    }
  ]
}